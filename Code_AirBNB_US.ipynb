{
 "cells": [
  {
   "cell_type": "code",
   "execution_count": 1,
   "metadata": {
    "_cell_guid": "b1076dfc-b9ad-4769-8c92-a6c4dae69d19",
    "_uuid": "8f2839f25d086af736a60e9eeb907d3b93b6e0e5",
    "execution": {
     "iopub.execute_input": "2020-11-06T11:12:52.595080Z",
     "iopub.status.busy": "2020-11-06T11:12:52.594162Z",
     "iopub.status.idle": "2020-11-06T11:12:57.005299Z",
     "shell.execute_reply": "2020-11-06T11:12:57.006038Z"
    },
    "papermill": {
     "duration": 4.435822,
     "end_time": "2020-11-06T11:12:57.006258",
     "exception": false,
     "start_time": "2020-11-06T11:12:52.570436",
     "status": "completed"
    },
    "tags": []
   },
   "outputs": [
    {
     "name": "stdout",
     "output_type": "stream",
     "text": [
      "/kaggle/input/us-airbnb-open-data/AB_US_2020.csv\n"
     ]
    }
   ],
   "source": [
    "# This Python 3 environment comes with many helpful analytics libraries installed\n",
    "# It is defined by the kaggle/python Docker image: https://github.com/kaggle/docker-python\n",
    "# For example, here's several helpful packages to load\n",
    "\n",
    "import numpy as np # linear algebra\n",
    "import pandas as pd # data processing, CSV file I/O (e.g. pd.read_csv)\n",
    "import matplotlib.pyplot as plt\n",
    "import seaborn as sns\n",
    "from sklearn.metrics import mean_squared_error\n",
    "from sklearn.compose import ColumnTransformer\n",
    "from sklearn.pipeline import Pipeline\n",
    "from sklearn.impute import SimpleImputer\n",
    "from sklearn.preprocessing import LabelEncoder, OneHotEncoder\n",
    "from sklearn.model_selection import train_test_split\n",
    "from xgboost import XGBRegressor\n",
    "from sklearn.model_selection import GridSearchCV\n",
    "import os\n",
    "# Input data files are available in the read-only \"../input/\" directory\n",
    "# For example, running this (by clicking run or pressing Shift+Enter) will list all files under the input directory\n",
    "\n",
    "import os\n",
    "for dirname, _, filenames in os.walk('/kaggle/input'):\n",
    "    for filename in filenames:\n",
    "        print(os.path.join(dirname, filename))\n",
    "\n",
    "# You can write up to 5GB to the current directory (/kaggle/working/) that gets preserved as output when you create a version using \"Save & Run All\" \n",
    "# You can also write temporary files to /kaggle/temp/, but they won't be saved outside of the current session"
   ]
  },
  {
   "cell_type": "code",
   "execution_count": 2,
   "metadata": {
    "_cell_guid": "79c7e3d0-c299-4dcb-8224-4455121ee9b0",
    "_uuid": "d629ff2d2480ee46fbb7e2d37f6b5fab8052498a",
    "execution": {
     "iopub.execute_input": "2020-11-06T11:12:57.058497Z",
     "iopub.status.busy": "2020-11-06T11:12:57.057573Z",
     "iopub.status.idle": "2020-11-06T11:12:57.943205Z",
     "shell.execute_reply": "2020-11-06T11:12:57.942534Z"
    },
    "papermill": {
     "duration": 0.914903,
     "end_time": "2020-11-06T11:12:57.943333",
     "exception": false,
     "start_time": "2020-11-06T11:12:57.028430",
     "status": "completed"
    },
    "tags": []
   },
   "outputs": [
    {
     "name": "stderr",
     "output_type": "stream",
     "text": [
      "/opt/conda/lib/python3.7/site-packages/IPython/core/interactiveshell.py:3063: DtypeWarning: Columns (4) have mixed types.Specify dtype option on import or set low_memory=False.\n",
      "  interactivity=interactivity, compiler=compiler, result=result)\n"
     ]
    },
    {
     "data": {
      "text/html": [
       "<div>\n",
       "<style scoped>\n",
       "    .dataframe tbody tr th:only-of-type {\n",
       "        vertical-align: middle;\n",
       "    }\n",
       "\n",
       "    .dataframe tbody tr th {\n",
       "        vertical-align: top;\n",
       "    }\n",
       "\n",
       "    .dataframe thead th {\n",
       "        text-align: right;\n",
       "    }\n",
       "</style>\n",
       "<table border=\"1\" class=\"dataframe\">\n",
       "  <thead>\n",
       "    <tr style=\"text-align: right;\">\n",
       "      <th></th>\n",
       "      <th>id</th>\n",
       "      <th>name</th>\n",
       "      <th>host_id</th>\n",
       "      <th>host_name</th>\n",
       "      <th>neighbourhood_group</th>\n",
       "      <th>neighbourhood</th>\n",
       "      <th>latitude</th>\n",
       "      <th>longitude</th>\n",
       "      <th>room_type</th>\n",
       "      <th>price</th>\n",
       "      <th>minimum_nights</th>\n",
       "      <th>number_of_reviews</th>\n",
       "      <th>last_review</th>\n",
       "      <th>reviews_per_month</th>\n",
       "      <th>calculated_host_listings_count</th>\n",
       "      <th>availability_365</th>\n",
       "      <th>city</th>\n",
       "    </tr>\n",
       "  </thead>\n",
       "  <tbody>\n",
       "    <tr>\n",
       "      <th>0</th>\n",
       "      <td>38585</td>\n",
       "      <td>Charming Victorian home - twin beds + breakfast</td>\n",
       "      <td>165529</td>\n",
       "      <td>Evelyne</td>\n",
       "      <td>NaN</td>\n",
       "      <td>28804</td>\n",
       "      <td>35.65146</td>\n",
       "      <td>-82.62792</td>\n",
       "      <td>Private room</td>\n",
       "      <td>60</td>\n",
       "      <td>1</td>\n",
       "      <td>138</td>\n",
       "      <td>16/02/20</td>\n",
       "      <td>1.14</td>\n",
       "      <td>1</td>\n",
       "      <td>0</td>\n",
       "      <td>Asheville</td>\n",
       "    </tr>\n",
       "    <tr>\n",
       "      <th>1</th>\n",
       "      <td>80905</td>\n",
       "      <td>French Chic Loft</td>\n",
       "      <td>427027</td>\n",
       "      <td>Celeste</td>\n",
       "      <td>NaN</td>\n",
       "      <td>28801</td>\n",
       "      <td>35.59779</td>\n",
       "      <td>-82.55540</td>\n",
       "      <td>Entire home/apt</td>\n",
       "      <td>470</td>\n",
       "      <td>1</td>\n",
       "      <td>114</td>\n",
       "      <td>07/09/20</td>\n",
       "      <td>1.03</td>\n",
       "      <td>11</td>\n",
       "      <td>288</td>\n",
       "      <td>Asheville</td>\n",
       "    </tr>\n",
       "    <tr>\n",
       "      <th>2</th>\n",
       "      <td>108061</td>\n",
       "      <td>Walk to stores/parks/downtown. Fenced yard/Pet...</td>\n",
       "      <td>320564</td>\n",
       "      <td>Lisa</td>\n",
       "      <td>NaN</td>\n",
       "      <td>28801</td>\n",
       "      <td>35.60670</td>\n",
       "      <td>-82.55563</td>\n",
       "      <td>Entire home/apt</td>\n",
       "      <td>75</td>\n",
       "      <td>30</td>\n",
       "      <td>89</td>\n",
       "      <td>30/11/19</td>\n",
       "      <td>0.81</td>\n",
       "      <td>2</td>\n",
       "      <td>298</td>\n",
       "      <td>Asheville</td>\n",
       "    </tr>\n",
       "    <tr>\n",
       "      <th>3</th>\n",
       "      <td>155305</td>\n",
       "      <td>Cottage! BonPaul + Sharky's Hostel</td>\n",
       "      <td>746673</td>\n",
       "      <td>BonPaul</td>\n",
       "      <td>NaN</td>\n",
       "      <td>28806</td>\n",
       "      <td>35.57864</td>\n",
       "      <td>-82.59578</td>\n",
       "      <td>Entire home/apt</td>\n",
       "      <td>90</td>\n",
       "      <td>1</td>\n",
       "      <td>267</td>\n",
       "      <td>22/09/20</td>\n",
       "      <td>2.39</td>\n",
       "      <td>5</td>\n",
       "      <td>0</td>\n",
       "      <td>Asheville</td>\n",
       "    </tr>\n",
       "    <tr>\n",
       "      <th>4</th>\n",
       "      <td>160594</td>\n",
       "      <td>Historic Grove Park</td>\n",
       "      <td>769252</td>\n",
       "      <td>Elizabeth</td>\n",
       "      <td>NaN</td>\n",
       "      <td>28801</td>\n",
       "      <td>35.61442</td>\n",
       "      <td>-82.54127</td>\n",
       "      <td>Private room</td>\n",
       "      <td>125</td>\n",
       "      <td>30</td>\n",
       "      <td>58</td>\n",
       "      <td>19/10/15</td>\n",
       "      <td>0.52</td>\n",
       "      <td>1</td>\n",
       "      <td>0</td>\n",
       "      <td>Asheville</td>\n",
       "    </tr>\n",
       "  </tbody>\n",
       "</table>\n",
       "</div>"
      ],
      "text/plain": [
       "       id                                               name  host_id  \\\n",
       "0   38585    Charming Victorian home - twin beds + breakfast   165529   \n",
       "1   80905                                   French Chic Loft   427027   \n",
       "2  108061  Walk to stores/parks/downtown. Fenced yard/Pet...   320564   \n",
       "3  155305                 Cottage! BonPaul + Sharky's Hostel   746673   \n",
       "4  160594                                Historic Grove Park   769252   \n",
       "\n",
       "   host_name neighbourhood_group neighbourhood  latitude  longitude  \\\n",
       "0    Evelyne                 NaN         28804  35.65146  -82.62792   \n",
       "1    Celeste                 NaN         28801  35.59779  -82.55540   \n",
       "2       Lisa                 NaN         28801  35.60670  -82.55563   \n",
       "3    BonPaul                 NaN         28806  35.57864  -82.59578   \n",
       "4  Elizabeth                 NaN         28801  35.61442  -82.54127   \n",
       "\n",
       "         room_type  price  minimum_nights  number_of_reviews last_review  \\\n",
       "0     Private room     60               1                138    16/02/20   \n",
       "1  Entire home/apt    470               1                114    07/09/20   \n",
       "2  Entire home/apt     75              30                 89    30/11/19   \n",
       "3  Entire home/apt     90               1                267    22/09/20   \n",
       "4     Private room    125              30                 58    19/10/15   \n",
       "\n",
       "   reviews_per_month  calculated_host_listings_count  availability_365  \\\n",
       "0               1.14                               1                 0   \n",
       "1               1.03                              11               288   \n",
       "2               0.81                               2               298   \n",
       "3               2.39                               5                 0   \n",
       "4               0.52                               1                 0   \n",
       "\n",
       "        city  \n",
       "0  Asheville  \n",
       "1  Asheville  \n",
       "2  Asheville  \n",
       "3  Asheville  \n",
       "4  Asheville  "
      ]
     },
     "execution_count": 2,
     "metadata": {},
     "output_type": "execute_result"
    }
   ],
   "source": [
    "df = pd.read_csv('/kaggle/input/us-airbnb-open-data/AB_US_2020.csv')\n",
    "df.head()"
   ]
  },
  {
   "cell_type": "code",
   "execution_count": 3,
   "metadata": {
    "execution": {
     "iopub.execute_input": "2020-11-06T11:12:57.982765Z",
     "iopub.status.busy": "2020-11-06T11:12:57.981293Z",
     "iopub.status.idle": "2020-11-06T11:12:57.985520Z",
     "shell.execute_reply": "2020-11-06T11:12:57.986127Z"
    },
    "papermill": {
     "duration": 0.027106,
     "end_time": "2020-11-06T11:12:57.986298",
     "exception": false,
     "start_time": "2020-11-06T11:12:57.959192",
     "status": "completed"
    },
    "tags": []
   },
   "outputs": [
    {
     "data": {
      "text/plain": [
       "(226030, 17)"
      ]
     },
     "execution_count": 3,
     "metadata": {},
     "output_type": "execute_result"
    }
   ],
   "source": [
    "df.shape"
   ]
  },
  {
   "cell_type": "code",
   "execution_count": 4,
   "metadata": {
    "execution": {
     "iopub.execute_input": "2020-11-06T11:12:58.024567Z",
     "iopub.status.busy": "2020-11-06T11:12:58.023738Z",
     "iopub.status.idle": "2020-11-06T11:12:58.186519Z",
     "shell.execute_reply": "2020-11-06T11:12:58.187159Z"
    },
    "papermill": {
     "duration": 0.18385,
     "end_time": "2020-11-06T11:12:58.187306",
     "exception": false,
     "start_time": "2020-11-06T11:12:58.003456",
     "status": "completed"
    },
    "tags": []
   },
   "outputs": [
    {
     "data": {
      "text/plain": [
       "id                                 0.000000\n",
       "name                               0.012388\n",
       "host_id                            0.000000\n",
       "host_name                          0.014600\n",
       "neighbourhood_group               51.252046\n",
       "neighbourhood                      0.000000\n",
       "latitude                           0.000000\n",
       "longitude                          0.000000\n",
       "room_type                          0.000000\n",
       "price                              0.000000\n",
       "minimum_nights                     0.000000\n",
       "number_of_reviews                  0.000000\n",
       "last_review                       21.502455\n",
       "reviews_per_month                 21.502455\n",
       "calculated_host_listings_count     0.000000\n",
       "availability_365                   0.000000\n",
       "city                               0.000000\n",
       "dtype: float64"
      ]
     },
     "execution_count": 4,
     "metadata": {},
     "output_type": "execute_result"
    }
   ],
   "source": [
    "df.isnull().sum()/len(df)*100"
   ]
  },
  {
   "cell_type": "code",
   "execution_count": 5,
   "metadata": {
    "execution": {
     "iopub.execute_input": "2020-11-06T11:12:58.232663Z",
     "iopub.status.busy": "2020-11-06T11:12:58.231934Z",
     "iopub.status.idle": "2020-11-06T11:12:58.244605Z",
     "shell.execute_reply": "2020-11-06T11:12:58.245066Z"
    },
    "papermill": {
     "duration": 0.041676,
     "end_time": "2020-11-06T11:12:58.245198",
     "exception": false,
     "start_time": "2020-11-06T11:12:58.203522",
     "status": "completed"
    },
    "tags": []
   },
   "outputs": [],
   "source": [
    "df.drop(['neighbourhood_group','last_review','name'],axis=1,inplace=True)"
   ]
  },
  {
   "cell_type": "code",
   "execution_count": 6,
   "metadata": {
    "execution": {
     "iopub.execute_input": "2020-11-06T11:12:58.281907Z",
     "iopub.status.busy": "2020-11-06T11:12:58.280878Z",
     "iopub.status.idle": "2020-11-06T11:12:58.285199Z",
     "shell.execute_reply": "2020-11-06T11:12:58.285691Z"
    },
    "papermill": {
     "duration": 0.025859,
     "end_time": "2020-11-06T11:12:58.285845",
     "exception": false,
     "start_time": "2020-11-06T11:12:58.259986",
     "status": "completed"
    },
    "tags": []
   },
   "outputs": [
    {
     "data": {
      "text/plain": [
       "id                                  int64\n",
       "host_id                             int64\n",
       "host_name                          object\n",
       "neighbourhood                      object\n",
       "latitude                          float64\n",
       "longitude                         float64\n",
       "room_type                          object\n",
       "price                               int64\n",
       "minimum_nights                      int64\n",
       "number_of_reviews                   int64\n",
       "reviews_per_month                 float64\n",
       "calculated_host_listings_count      int64\n",
       "availability_365                    int64\n",
       "city                               object\n",
       "dtype: object"
      ]
     },
     "execution_count": 6,
     "metadata": {},
     "output_type": "execute_result"
    }
   ],
   "source": [
    "df.dtypes"
   ]
  },
  {
   "cell_type": "code",
   "execution_count": 7,
   "metadata": {
    "execution": {
     "iopub.execute_input": "2020-11-06T11:12:58.321379Z",
     "iopub.status.busy": "2020-11-06T11:12:58.320777Z",
     "iopub.status.idle": "2020-11-06T11:12:58.326847Z",
     "shell.execute_reply": "2020-11-06T11:12:58.327333Z"
    },
    "papermill": {
     "duration": 0.025893,
     "end_time": "2020-11-06T11:12:58.327459",
     "exception": false,
     "start_time": "2020-11-06T11:12:58.301566",
     "status": "completed"
    },
    "tags": []
   },
   "outputs": [
    {
     "data": {
      "text/plain": [
       "Index(['id', 'host_id', 'host_name', 'neighbourhood', 'latitude', 'longitude',\n",
       "       'room_type', 'price', 'minimum_nights', 'number_of_reviews',\n",
       "       'reviews_per_month', 'calculated_host_listings_count',\n",
       "       'availability_365', 'city'],\n",
       "      dtype='object')"
      ]
     },
     "execution_count": 7,
     "metadata": {},
     "output_type": "execute_result"
    }
   ],
   "source": [
    "df.columns"
   ]
  },
  {
   "cell_type": "code",
   "execution_count": 8,
   "metadata": {
    "execution": {
     "iopub.execute_input": "2020-11-06T11:12:58.367397Z",
     "iopub.status.busy": "2020-11-06T11:12:58.366387Z",
     "iopub.status.idle": "2020-11-06T11:12:58.371887Z",
     "shell.execute_reply": "2020-11-06T11:12:58.371256Z"
    },
    "papermill": {
     "duration": 0.028636,
     "end_time": "2020-11-06T11:12:58.372011",
     "exception": false,
     "start_time": "2020-11-06T11:12:58.343375",
     "status": "completed"
    },
    "tags": []
   },
   "outputs": [],
   "source": [
    "df['reviews_per_month'].fillna(df['reviews_per_month'].mean(),inplace=True)"
   ]
  },
  {
   "cell_type": "code",
   "execution_count": 9,
   "metadata": {
    "execution": {
     "iopub.execute_input": "2020-11-06T11:12:58.503823Z",
     "iopub.status.busy": "2020-11-06T11:12:58.502815Z",
     "iopub.status.idle": "2020-11-06T11:12:58.545306Z",
     "shell.execute_reply": "2020-11-06T11:12:58.545858Z"
    },
    "papermill": {
     "duration": 0.157304,
     "end_time": "2020-11-06T11:12:58.546000",
     "exception": false,
     "start_time": "2020-11-06T11:12:58.388696",
     "status": "completed"
    },
    "tags": []
   },
   "outputs": [
    {
     "data": {
      "text/plain": [
       "(225997, 14)"
      ]
     },
     "execution_count": 9,
     "metadata": {},
     "output_type": "execute_result"
    }
   ],
   "source": [
    "df.dropna().shape"
   ]
  },
  {
   "cell_type": "code",
   "execution_count": 10,
   "metadata": {
    "execution": {
     "iopub.execute_input": "2020-11-06T11:12:58.595458Z",
     "iopub.status.busy": "2020-11-06T11:12:58.594447Z",
     "iopub.status.idle": "2020-11-06T11:12:58.700884Z",
     "shell.execute_reply": "2020-11-06T11:12:58.701446Z"
    },
    "papermill": {
     "duration": 0.13848,
     "end_time": "2020-11-06T11:12:58.701594",
     "exception": false,
     "start_time": "2020-11-06T11:12:58.563114",
     "status": "completed"
    },
    "tags": []
   },
   "outputs": [
    {
     "data": {
      "text/html": [
       "<div>\n",
       "<style scoped>\n",
       "    .dataframe tbody tr th:only-of-type {\n",
       "        vertical-align: middle;\n",
       "    }\n",
       "\n",
       "    .dataframe tbody tr th {\n",
       "        vertical-align: top;\n",
       "    }\n",
       "\n",
       "    .dataframe thead th {\n",
       "        text-align: right;\n",
       "    }\n",
       "</style>\n",
       "<table border=\"1\" class=\"dataframe\">\n",
       "  <thead>\n",
       "    <tr style=\"text-align: right;\">\n",
       "      <th></th>\n",
       "      <th>id</th>\n",
       "      <th>host_id</th>\n",
       "      <th>latitude</th>\n",
       "      <th>longitude</th>\n",
       "      <th>price</th>\n",
       "      <th>minimum_nights</th>\n",
       "      <th>number_of_reviews</th>\n",
       "      <th>reviews_per_month</th>\n",
       "      <th>calculated_host_listings_count</th>\n",
       "      <th>availability_365</th>\n",
       "    </tr>\n",
       "  </thead>\n",
       "  <tbody>\n",
       "    <tr>\n",
       "      <th>count</th>\n",
       "      <td>2.260300e+05</td>\n",
       "      <td>2.260300e+05</td>\n",
       "      <td>226030.000000</td>\n",
       "      <td>226030.000000</td>\n",
       "      <td>226030.000000</td>\n",
       "      <td>2.260300e+05</td>\n",
       "      <td>226030.000000</td>\n",
       "      <td>226030.000000</td>\n",
       "      <td>226030.000000</td>\n",
       "      <td>226030.000000</td>\n",
       "    </tr>\n",
       "    <tr>\n",
       "      <th>mean</th>\n",
       "      <td>2.547176e+07</td>\n",
       "      <td>9.352385e+07</td>\n",
       "      <td>35.662829</td>\n",
       "      <td>-103.220662</td>\n",
       "      <td>219.716529</td>\n",
       "      <td>4.525490e+02</td>\n",
       "      <td>34.506530</td>\n",
       "      <td>1.431450</td>\n",
       "      <td>16.698562</td>\n",
       "      <td>159.314856</td>\n",
       "    </tr>\n",
       "    <tr>\n",
       "      <th>std</th>\n",
       "      <td>1.317814e+07</td>\n",
       "      <td>9.827422e+07</td>\n",
       "      <td>6.849855</td>\n",
       "      <td>26.222091</td>\n",
       "      <td>570.353609</td>\n",
       "      <td>2.103376e+05</td>\n",
       "      <td>63.602914</td>\n",
       "      <td>1.491304</td>\n",
       "      <td>51.068966</td>\n",
       "      <td>140.179628</td>\n",
       "    </tr>\n",
       "    <tr>\n",
       "      <th>min</th>\n",
       "      <td>1.090000e+02</td>\n",
       "      <td>2.300000e+01</td>\n",
       "      <td>18.920990</td>\n",
       "      <td>-159.714900</td>\n",
       "      <td>0.000000</td>\n",
       "      <td>1.000000e+00</td>\n",
       "      <td>0.000000</td>\n",
       "      <td>0.010000</td>\n",
       "      <td>1.000000</td>\n",
       "      <td>0.000000</td>\n",
       "    </tr>\n",
       "    <tr>\n",
       "      <th>25%</th>\n",
       "      <td>1.515890e+07</td>\n",
       "      <td>1.399275e+07</td>\n",
       "      <td>32.761783</td>\n",
       "      <td>-118.598115</td>\n",
       "      <td>75.000000</td>\n",
       "      <td>1.000000e+00</td>\n",
       "      <td>1.000000</td>\n",
       "      <td>0.340000</td>\n",
       "      <td>1.000000</td>\n",
       "      <td>0.000000</td>\n",
       "    </tr>\n",
       "    <tr>\n",
       "      <th>50%</th>\n",
       "      <td>2.590916e+07</td>\n",
       "      <td>5.138266e+07</td>\n",
       "      <td>37.261125</td>\n",
       "      <td>-97.817200</td>\n",
       "      <td>121.000000</td>\n",
       "      <td>2.000000e+00</td>\n",
       "      <td>8.000000</td>\n",
       "      <td>1.370000</td>\n",
       "      <td>2.000000</td>\n",
       "      <td>140.000000</td>\n",
       "    </tr>\n",
       "    <tr>\n",
       "      <th>75%</th>\n",
       "      <td>3.772624e+07</td>\n",
       "      <td>1.497179e+08</td>\n",
       "      <td>40.724038</td>\n",
       "      <td>-76.919322</td>\n",
       "      <td>201.000000</td>\n",
       "      <td>7.000000e+00</td>\n",
       "      <td>39.000000</td>\n",
       "      <td>1.620000</td>\n",
       "      <td>6.000000</td>\n",
       "      <td>311.000000</td>\n",
       "    </tr>\n",
       "    <tr>\n",
       "      <th>max</th>\n",
       "      <td>4.556085e+07</td>\n",
       "      <td>3.679176e+08</td>\n",
       "      <td>47.734620</td>\n",
       "      <td>-70.995950</td>\n",
       "      <td>24999.000000</td>\n",
       "      <td>1.000000e+08</td>\n",
       "      <td>966.000000</td>\n",
       "      <td>44.060000</td>\n",
       "      <td>593.000000</td>\n",
       "      <td>365.000000</td>\n",
       "    </tr>\n",
       "  </tbody>\n",
       "</table>\n",
       "</div>"
      ],
      "text/plain": [
       "                 id       host_id       latitude      longitude  \\\n",
       "count  2.260300e+05  2.260300e+05  226030.000000  226030.000000   \n",
       "mean   2.547176e+07  9.352385e+07      35.662829    -103.220662   \n",
       "std    1.317814e+07  9.827422e+07       6.849855      26.222091   \n",
       "min    1.090000e+02  2.300000e+01      18.920990    -159.714900   \n",
       "25%    1.515890e+07  1.399275e+07      32.761783    -118.598115   \n",
       "50%    2.590916e+07  5.138266e+07      37.261125     -97.817200   \n",
       "75%    3.772624e+07  1.497179e+08      40.724038     -76.919322   \n",
       "max    4.556085e+07  3.679176e+08      47.734620     -70.995950   \n",
       "\n",
       "               price  minimum_nights  number_of_reviews  reviews_per_month  \\\n",
       "count  226030.000000    2.260300e+05      226030.000000      226030.000000   \n",
       "mean      219.716529    4.525490e+02          34.506530           1.431450   \n",
       "std       570.353609    2.103376e+05          63.602914           1.491304   \n",
       "min         0.000000    1.000000e+00           0.000000           0.010000   \n",
       "25%        75.000000    1.000000e+00           1.000000           0.340000   \n",
       "50%       121.000000    2.000000e+00           8.000000           1.370000   \n",
       "75%       201.000000    7.000000e+00          39.000000           1.620000   \n",
       "max     24999.000000    1.000000e+08         966.000000          44.060000   \n",
       "\n",
       "       calculated_host_listings_count  availability_365  \n",
       "count                   226030.000000     226030.000000  \n",
       "mean                        16.698562        159.314856  \n",
       "std                         51.068966        140.179628  \n",
       "min                          1.000000          0.000000  \n",
       "25%                          1.000000          0.000000  \n",
       "50%                          2.000000        140.000000  \n",
       "75%                          6.000000        311.000000  \n",
       "max                        593.000000        365.000000  "
      ]
     },
     "execution_count": 10,
     "metadata": {},
     "output_type": "execute_result"
    }
   ],
   "source": [
    "df.describe()"
   ]
  },
  {
   "cell_type": "code",
   "execution_count": 11,
   "metadata": {
    "execution": {
     "iopub.execute_input": "2020-11-06T11:12:58.745242Z",
     "iopub.status.busy": "2020-11-06T11:12:58.744241Z",
     "iopub.status.idle": "2020-11-06T11:12:59.606589Z",
     "shell.execute_reply": "2020-11-06T11:12:59.607285Z"
    },
    "papermill": {
     "duration": 0.886992,
     "end_time": "2020-11-06T11:12:59.607548",
     "exception": false,
     "start_time": "2020-11-06T11:12:58.720556",
     "status": "completed"
    },
    "tags": []
   },
   "outputs": [
    {
     "data": {
      "text/plain": [
       "<matplotlib.axes._subplots.AxesSubplot at 0x7f5349375810>"
      ]
     },
     "execution_count": 11,
     "metadata": {},
     "output_type": "execute_result"
    },
    {
     "data": {
      "image/png": "[encoded data removed]",
      "text/plain": [
       "<Figure size 720x720 with 2 Axes>"
      ]
     },
     "metadata": {
      "needs_background": "light"
     },
     "output_type": "display_data"
    }
   ],
   "source": [
    "plt.rcParams['figure.figsize']=10,10\n",
    "sns.heatmap(df.corr(), cmap='coolwarm', annot=True)"
   ]
  },
  {
   "cell_type": "code",
   "execution_count": 12,
   "metadata": {
    "execution": {
     "iopub.execute_input": "2020-11-06T11:12:59.670241Z",
     "iopub.status.busy": "2020-11-06T11:12:59.669368Z",
     "iopub.status.idle": "2020-11-06T11:12:59.673297Z",
     "shell.execute_reply": "2020-11-06T11:12:59.673817Z"
    },
    "papermill": {
     "duration": 0.04544,
     "end_time": "2020-11-06T11:12:59.673976",
     "exception": false,
     "start_time": "2020-11-06T11:12:59.628536",
     "status": "completed"
    },
    "tags": []
   },
   "outputs": [],
   "source": [
    "X = df.drop(['price'], axis=1)\n",
    "y = df.price"
   ]
  },
  {
   "cell_type": "code",
   "execution_count": 13,
   "metadata": {
    "execution": {
     "iopub.execute_input": "2020-11-06T11:12:59.719898Z",
     "iopub.status.busy": "2020-11-06T11:12:59.719129Z",
     "iopub.status.idle": "2020-11-06T11:12:59.794938Z",
     "shell.execute_reply": "2020-11-06T11:12:59.794325Z"
    },
    "papermill": {
     "duration": 0.101036,
     "end_time": "2020-11-06T11:12:59.795074",
     "exception": false,
     "start_time": "2020-11-06T11:12:59.694038",
     "status": "completed"
    },
    "tags": []
   },
   "outputs": [],
   "source": [
    "X_train, X_test , y_train , y_test = train_test_split(X , y , random_state=1)"
   ]
  },
  {
   "cell_type": "code",
   "execution_count": 14,
   "metadata": {
    "execution": {
     "iopub.execute_input": "2020-11-06T11:12:59.851978Z",
     "iopub.status.busy": "2020-11-06T11:12:59.850898Z",
     "iopub.status.idle": "2020-11-06T11:15:24.472996Z",
     "shell.execute_reply": "2020-11-06T11:15:24.473784Z"
    },
    "papermill": {
     "duration": 144.658693,
     "end_time": "2020-11-06T11:15:24.473993",
     "exception": false,
     "start_time": "2020-11-06T11:12:59.815300",
     "status": "completed"
    },
    "tags": []
   },
   "outputs": [
    {
     "name": "stdout",
     "output_type": "stream",
     "text": [
      "RMSE: 455.11291043017553\n"
     ]
    }
   ],
   "source": [
    "numerical_cols = [cname for cname in X.columns if \n",
    "                X[cname].dtype in ['int64', 'float64']]\n",
    "\n",
    "categorical_cols = [cname for cname in X.columns if\n",
    "                    X[cname].nunique() < 50 and \n",
    "                    X[cname].dtype in ['object', 'bool']]\n",
    "\n",
    "numerical_transformer = SimpleImputer(strategy='constant')\n",
    "\n",
    "categorical_transformer = Pipeline(steps=[\n",
    "    ('imputer', SimpleImputer(strategy='most_frequent')),\n",
    "    ('onehot', OneHotEncoder(handle_unknown='ignore'))\n",
    "])\n",
    "\n",
    "preprocessor = ColumnTransformer(\n",
    "    transformers=[\n",
    "        ('num', numerical_transformer, numerical_cols),\n",
    "        ('cat', categorical_transformer, categorical_cols)\n",
    "])\n",
    "\n",
    "model = XGBRegressor(base_score=0.5, booster='gbtree', colsample_bylevel=1,\n",
    "             colsample_bynode=1, colsample_bytree=0.6, gamma=0.0, gpu_id=-1,\n",
    "             importance_type='gain', interaction_constraints='',\n",
    "             learning_rate=0.02, max_delta_step=0, max_depth=4,\n",
    "             min_child_weight=0.0,n_estimators=1250, n_jobs=0, num_parallel_tree=1, random_state=0,\n",
    "             reg_alpha=0, reg_lambda=1, scale_pos_weight=1, subsample=0.8,\n",
    "             tree_method='exact', validate_parameters=1, verbosity=None)\n",
    "\n",
    "clf = Pipeline(steps=[('preprocessor', preprocessor),\n",
    "                      ('model', model)\n",
    "                     ])\n",
    "\n",
    "clf.fit(X_train, y_train, model__verbose=False) \n",
    "preds = clf.predict(X_test)\n",
    "\n",
    "print('RMSE:', mean_squared_error(y_test, preds, squared=False))"
   ]
  },
  {
   "cell_type": "code",
   "execution_count": 15,
   "metadata": {
    "execution": {
     "iopub.execute_input": "2020-11-06T11:15:24.536859Z",
     "iopub.status.busy": "2020-11-06T11:15:24.535543Z",
     "iopub.status.idle": "2020-11-06T11:15:35.594710Z",
     "shell.execute_reply": "2020-11-06T11:15:35.594075Z"
    },
    "papermill": {
     "duration": 11.093077,
     "end_time": "2020-11-06T11:15:35.594843",
     "exception": false,
     "start_time": "2020-11-06T11:15:24.501766",
     "status": "completed"
    },
    "tags": []
   },
   "outputs": [],
   "source": [
    "preds = clf.predict(X)\n",
    "output = pd.DataFrame({'id': X.id,\n",
    "                       'price': preds})\n",
    "output.to_csv('submission.csv', index=False)"
   ]
  },
  {
   "cell_type": "code",
   "execution_count": null,
   "metadata": {
    "papermill": {
     "duration": 0.020447,
     "end_time": "2020-11-06T11:15:35.637943",
     "exception": false,
     "start_time": "2020-11-06T11:15:35.617496",
     "status": "completed"
    },
    "tags": []
   },
   "outputs": [],
   "source": []
  }
 ],
 "metadata": {
  "kernelspec": {
   "display_name": "Python 3",
   "language": "python",
   "name": "python3"
  },
  "language_info": {
   "codemirror_mode": {
    "name": "ipython",
    "version": 3
   },
   "file_extension": ".py",
   "mimetype": "text/x-python",
   "name": "python",
   "nbconvert_exporter": "python",
   "pygments_lexer": "ipython3",
   "version": "3.7.6"
  },
  "papermill": {
   "duration": 168.403506,
   "end_time": "2020-11-06T11:15:35.966340",
   "environment_variables": {},
   "exception": null,
   "input_path": "__notebook__.ipynb",
   "output_path": "__notebook__.ipynb",
   "parameters": {},
   "start_time": "2020-11-06T11:12:47.562834",
   "version": "2.1.0"
  }
 },
 "nbformat": 4,
 "nbformat_minor": 4
}
